{
 "cells": [
  {
   "cell_type": "code",
   "execution_count": 2,
   "id": "9bbfe0b3-d648-429e-b4f2-2ba7081744dd",
   "metadata": {},
   "outputs": [],
   "source": [
    "## Importing libraries for  ETL process, Data cleaning,manipulation and Visualization. \n",
    "\n",
    "import pandas as pd\n",
    "import numpy as np\n",
    "import matplotlib.pyplot as plt"
   ]
  },
  {
   "cell_type": "code",
   "execution_count": 3,
   "id": "a92ad2b6-a1c2-4187-a216-219097ea4700",
   "metadata": {},
   "outputs": [],
   "source": [
    "# Importing dataset by using Pandas library.\n",
    "\n",
    "path= r\"C:\\Bigdata Mart\\bigmart_data.csv\"\n",
    "dataset= pd.read_csv(path)"
   ]
  },
  {
   "cell_type": "code",
   "execution_count": 5,
   "id": "fdc65ccb-a950-4115-9e54-71515b3ac50a",
   "metadata": {},
   "outputs": [
    {
     "data": {
      "text/html": [
       "<div>\n",
       "<style scoped>\n",
       "    .dataframe tbody tr th:only-of-type {\n",
       "        vertical-align: middle;\n",
       "    }\n",
       "\n",
       "    .dataframe tbody tr th {\n",
       "        vertical-align: top;\n",
       "    }\n",
       "\n",
       "    .dataframe thead th {\n",
       "        text-align: right;\n",
       "    }\n",
       "</style>\n",
       "<table border=\"1\" class=\"dataframe\">\n",
       "  <thead>\n",
       "    <tr style=\"text-align: right;\">\n",
       "      <th></th>\n",
       "      <th>Item_Identifier</th>\n",
       "      <th>Item_Weight</th>\n",
       "      <th>Item_Fat_Content</th>\n",
       "      <th>Item_Visibility</th>\n",
       "      <th>Item_Type</th>\n",
       "      <th>Item_MRP</th>\n",
       "      <th>Outlet_Identifier</th>\n",
       "      <th>Outlet_Establishment_Year</th>\n",
       "      <th>Outlet_Size</th>\n",
       "      <th>Outlet_Location_Type</th>\n",
       "      <th>Outlet_Type</th>\n",
       "      <th>Item_Outlet_Sales</th>\n",
       "    </tr>\n",
       "  </thead>\n",
       "  <tbody>\n",
       "    <tr>\n",
       "      <th>0</th>\n",
       "      <td>FDA15</td>\n",
       "      <td>9.30</td>\n",
       "      <td>Low Fat</td>\n",
       "      <td>0.016047</td>\n",
       "      <td>Dairy</td>\n",
       "      <td>249.8092</td>\n",
       "      <td>OUT049</td>\n",
       "      <td>1999</td>\n",
       "      <td>Medium</td>\n",
       "      <td>Tier 1</td>\n",
       "      <td>Supermarket Type1</td>\n",
       "      <td>3735.1380</td>\n",
       "    </tr>\n",
       "    <tr>\n",
       "      <th>1</th>\n",
       "      <td>DRC01</td>\n",
       "      <td>5.92</td>\n",
       "      <td>Regular</td>\n",
       "      <td>0.019278</td>\n",
       "      <td>Soft Drinks</td>\n",
       "      <td>48.2692</td>\n",
       "      <td>OUT018</td>\n",
       "      <td>2009</td>\n",
       "      <td>Medium</td>\n",
       "      <td>Tier 3</td>\n",
       "      <td>Supermarket Type2</td>\n",
       "      <td>443.4228</td>\n",
       "    </tr>\n",
       "    <tr>\n",
       "      <th>2</th>\n",
       "      <td>FDN15</td>\n",
       "      <td>17.50</td>\n",
       "      <td>Low Fat</td>\n",
       "      <td>0.016760</td>\n",
       "      <td>Meat</td>\n",
       "      <td>141.6180</td>\n",
       "      <td>OUT049</td>\n",
       "      <td>1999</td>\n",
       "      <td>Medium</td>\n",
       "      <td>Tier 1</td>\n",
       "      <td>Supermarket Type1</td>\n",
       "      <td>2097.2700</td>\n",
       "    </tr>\n",
       "    <tr>\n",
       "      <th>3</th>\n",
       "      <td>FDX07</td>\n",
       "      <td>19.20</td>\n",
       "      <td>Regular</td>\n",
       "      <td>0.000000</td>\n",
       "      <td>Fruits and Vegetables</td>\n",
       "      <td>182.0950</td>\n",
       "      <td>OUT010</td>\n",
       "      <td>1998</td>\n",
       "      <td>NaN</td>\n",
       "      <td>Tier 3</td>\n",
       "      <td>Grocery Store</td>\n",
       "      <td>732.3800</td>\n",
       "    </tr>\n",
       "    <tr>\n",
       "      <th>4</th>\n",
       "      <td>NCD19</td>\n",
       "      <td>8.93</td>\n",
       "      <td>Low Fat</td>\n",
       "      <td>0.000000</td>\n",
       "      <td>Household</td>\n",
       "      <td>53.8614</td>\n",
       "      <td>OUT013</td>\n",
       "      <td>1987</td>\n",
       "      <td>High</td>\n",
       "      <td>Tier 3</td>\n",
       "      <td>Supermarket Type1</td>\n",
       "      <td>994.7052</td>\n",
       "    </tr>\n",
       "  </tbody>\n",
       "</table>\n",
       "</div>"
      ],
      "text/plain": [
       "  Item_Identifier  Item_Weight Item_Fat_Content  Item_Visibility  \\\n",
       "0           FDA15         9.30          Low Fat         0.016047   \n",
       "1           DRC01         5.92          Regular         0.019278   \n",
       "2           FDN15        17.50          Low Fat         0.016760   \n",
       "3           FDX07        19.20          Regular         0.000000   \n",
       "4           NCD19         8.93          Low Fat         0.000000   \n",
       "\n",
       "               Item_Type  Item_MRP Outlet_Identifier  \\\n",
       "0                  Dairy  249.8092            OUT049   \n",
       "1            Soft Drinks   48.2692            OUT018   \n",
       "2                   Meat  141.6180            OUT049   \n",
       "3  Fruits and Vegetables  182.0950            OUT010   \n",
       "4              Household   53.8614            OUT013   \n",
       "\n",
       "   Outlet_Establishment_Year Outlet_Size Outlet_Location_Type  \\\n",
       "0                       1999      Medium               Tier 1   \n",
       "1                       2009      Medium               Tier 3   \n",
       "2                       1999      Medium               Tier 1   \n",
       "3                       1998         NaN               Tier 3   \n",
       "4                       1987        High               Tier 3   \n",
       "\n",
       "         Outlet_Type  Item_Outlet_Sales  \n",
       "0  Supermarket Type1          3735.1380  \n",
       "1  Supermarket Type2           443.4228  \n",
       "2  Supermarket Type1          2097.2700  \n",
       "3      Grocery Store           732.3800  \n",
       "4  Supermarket Type1           994.7052  "
      ]
     },
     "execution_count": 5,
     "metadata": {},
     "output_type": "execute_result"
    }
   ],
   "source": [
    "# Checking dataset by extract 1st 5 rows.\n",
    "\n",
    "dataset.head()"
   ]
  },
  {
   "cell_type": "code",
   "execution_count": 7,
   "id": "f58e1a66-9858-4fe6-ba2d-b6d6640d92fd",
   "metadata": {},
   "outputs": [
    {
     "data": {
      "text/plain": [
       "(8523, 12)"
      ]
     },
     "execution_count": 7,
     "metadata": {},
     "output_type": "execute_result"
    }
   ],
   "source": [
    "#Checking how many rows and columns are there.\n",
    "\n",
    "dataset.shape"
   ]
  },
  {
   "cell_type": "code",
   "execution_count": 8,
   "id": "8d0793a4-5001-4f01-af95-cab0ed7f7649",
   "metadata": {},
   "outputs": [
    {
     "name": "stdout",
     "output_type": "stream",
     "text": [
      "<class 'pandas.core.frame.DataFrame'>\n",
      "RangeIndex: 8523 entries, 0 to 8522\n",
      "Data columns (total 12 columns):\n",
      " #   Column                     Non-Null Count  Dtype  \n",
      "---  ------                     --------------  -----  \n",
      " 0   Item_Identifier            8523 non-null   object \n",
      " 1   Item_Weight                7060 non-null   float64\n",
      " 2   Item_Fat_Content           8523 non-null   object \n",
      " 3   Item_Visibility            8523 non-null   float64\n",
      " 4   Item_Type                  8523 non-null   object \n",
      " 5   Item_MRP                   8523 non-null   float64\n",
      " 6   Outlet_Identifier          8523 non-null   object \n",
      " 7   Outlet_Establishment_Year  8523 non-null   int64  \n",
      " 8   Outlet_Size                6113 non-null   object \n",
      " 9   Outlet_Location_Type       8523 non-null   object \n",
      " 10  Outlet_Type                8523 non-null   object \n",
      " 11  Item_Outlet_Sales          8523 non-null   float64\n",
      "dtypes: float64(4), int64(1), object(7)\n",
      "memory usage: 799.2+ KB\n"
     ]
    }
   ],
   "source": [
    "# Checking the dataset info like datatype or null values in the column.\n",
    "\n",
    "dataset.info()"
   ]
  },
  {
   "cell_type": "code",
   "execution_count": 9,
   "id": "9f437886-c7c1-47db-a5cc-e275f5f3ac7a",
   "metadata": {},
   "outputs": [
    {
     "data": {
      "text/plain": [
       "Item_Identifier               0.000000\n",
       "Item_Weight                  17.165317\n",
       "Item_Fat_Content              0.000000\n",
       "Item_Visibility               0.000000\n",
       "Item_Type                     0.000000\n",
       "Item_MRP                      0.000000\n",
       "Outlet_Identifier             0.000000\n",
       "Outlet_Establishment_Year     0.000000\n",
       "Outlet_Size                  28.276428\n",
       "Outlet_Location_Type          0.000000\n",
       "Outlet_Type                   0.000000\n",
       "Item_Outlet_Sales             0.000000\n",
       "dtype: float64"
      ]
     },
     "execution_count": 9,
     "metadata": {},
     "output_type": "execute_result"
    }
   ],
   "source": [
    "#Checking the % of null values in the column.\n",
    "\n",
    "dataset.isnull().sum()/dataset.shape[0]*100"
   ]
  },
  {
   "cell_type": "code",
   "execution_count": 10,
   "id": "a3abfd15-66d9-407d-ac0d-f42f0b8eda8a",
   "metadata": {},
   "outputs": [],
   "source": [
    "# Replacing the null values in Item_Weight(Numerical Values) column with their mean and Outlet_size(Categorical Values) with their mode.\n",
    "\n",
    "dataset['Item_Weight'].fillna(dataset['Item_Weight'].mean(),inplace= True)\n",
    "dataset['Outlet_Size'].fillna(dataset['Outlet_Size'].mode()[0],inplace= True)"
   ]
  },
  {
   "cell_type": "code",
   "execution_count": 11,
   "id": "d4872b8b-2b4f-46be-9eee-ea1961213624",
   "metadata": {},
   "outputs": [
    {
     "data": {
      "text/html": [
       "<div>\n",
       "<style scoped>\n",
       "    .dataframe tbody tr th:only-of-type {\n",
       "        vertical-align: middle;\n",
       "    }\n",
       "\n",
       "    .dataframe tbody tr th {\n",
       "        vertical-align: top;\n",
       "    }\n",
       "\n",
       "    .dataframe thead th {\n",
       "        text-align: right;\n",
       "    }\n",
       "</style>\n",
       "<table border=\"1\" class=\"dataframe\">\n",
       "  <thead>\n",
       "    <tr style=\"text-align: right;\">\n",
       "      <th></th>\n",
       "      <th>Item_Identifier</th>\n",
       "      <th>Item_Weight</th>\n",
       "      <th>Item_Fat_Content</th>\n",
       "      <th>Item_Visibility</th>\n",
       "      <th>Item_Type</th>\n",
       "      <th>Item_MRP</th>\n",
       "      <th>Outlet_Identifier</th>\n",
       "      <th>Outlet_Establishment_Year</th>\n",
       "      <th>Outlet_Size</th>\n",
       "      <th>Outlet_Location_Type</th>\n",
       "      <th>Outlet_Type</th>\n",
       "      <th>Item_Outlet_Sales</th>\n",
       "    </tr>\n",
       "  </thead>\n",
       "  <tbody>\n",
       "    <tr>\n",
       "      <th>0</th>\n",
       "      <td>FDA15</td>\n",
       "      <td>9.300</td>\n",
       "      <td>Low Fat</td>\n",
       "      <td>0.016047</td>\n",
       "      <td>Dairy</td>\n",
       "      <td>249.8092</td>\n",
       "      <td>OUT049</td>\n",
       "      <td>1999</td>\n",
       "      <td>Medium</td>\n",
       "      <td>Tier 1</td>\n",
       "      <td>Supermarket Type1</td>\n",
       "      <td>3735.1380</td>\n",
       "    </tr>\n",
       "    <tr>\n",
       "      <th>1</th>\n",
       "      <td>DRC01</td>\n",
       "      <td>5.920</td>\n",
       "      <td>Regular</td>\n",
       "      <td>0.019278</td>\n",
       "      <td>Soft Drinks</td>\n",
       "      <td>48.2692</td>\n",
       "      <td>OUT018</td>\n",
       "      <td>2009</td>\n",
       "      <td>Medium</td>\n",
       "      <td>Tier 3</td>\n",
       "      <td>Supermarket Type2</td>\n",
       "      <td>443.4228</td>\n",
       "    </tr>\n",
       "    <tr>\n",
       "      <th>2</th>\n",
       "      <td>FDN15</td>\n",
       "      <td>17.500</td>\n",
       "      <td>Low Fat</td>\n",
       "      <td>0.016760</td>\n",
       "      <td>Meat</td>\n",
       "      <td>141.6180</td>\n",
       "      <td>OUT049</td>\n",
       "      <td>1999</td>\n",
       "      <td>Medium</td>\n",
       "      <td>Tier 1</td>\n",
       "      <td>Supermarket Type1</td>\n",
       "      <td>2097.2700</td>\n",
       "    </tr>\n",
       "    <tr>\n",
       "      <th>3</th>\n",
       "      <td>FDX07</td>\n",
       "      <td>19.200</td>\n",
       "      <td>Regular</td>\n",
       "      <td>0.000000</td>\n",
       "      <td>Fruits and Vegetables</td>\n",
       "      <td>182.0950</td>\n",
       "      <td>OUT010</td>\n",
       "      <td>1998</td>\n",
       "      <td>Medium</td>\n",
       "      <td>Tier 3</td>\n",
       "      <td>Grocery Store</td>\n",
       "      <td>732.3800</td>\n",
       "    </tr>\n",
       "    <tr>\n",
       "      <th>4</th>\n",
       "      <td>NCD19</td>\n",
       "      <td>8.930</td>\n",
       "      <td>Low Fat</td>\n",
       "      <td>0.000000</td>\n",
       "      <td>Household</td>\n",
       "      <td>53.8614</td>\n",
       "      <td>OUT013</td>\n",
       "      <td>1987</td>\n",
       "      <td>High</td>\n",
       "      <td>Tier 3</td>\n",
       "      <td>Supermarket Type1</td>\n",
       "      <td>994.7052</td>\n",
       "    </tr>\n",
       "    <tr>\n",
       "      <th>...</th>\n",
       "      <td>...</td>\n",
       "      <td>...</td>\n",
       "      <td>...</td>\n",
       "      <td>...</td>\n",
       "      <td>...</td>\n",
       "      <td>...</td>\n",
       "      <td>...</td>\n",
       "      <td>...</td>\n",
       "      <td>...</td>\n",
       "      <td>...</td>\n",
       "      <td>...</td>\n",
       "      <td>...</td>\n",
       "    </tr>\n",
       "    <tr>\n",
       "      <th>8518</th>\n",
       "      <td>FDF22</td>\n",
       "      <td>6.865</td>\n",
       "      <td>Low Fat</td>\n",
       "      <td>0.056783</td>\n",
       "      <td>Snack Foods</td>\n",
       "      <td>214.5218</td>\n",
       "      <td>OUT013</td>\n",
       "      <td>1987</td>\n",
       "      <td>High</td>\n",
       "      <td>Tier 3</td>\n",
       "      <td>Supermarket Type1</td>\n",
       "      <td>2778.3834</td>\n",
       "    </tr>\n",
       "    <tr>\n",
       "      <th>8519</th>\n",
       "      <td>FDS36</td>\n",
       "      <td>8.380</td>\n",
       "      <td>Regular</td>\n",
       "      <td>0.046982</td>\n",
       "      <td>Baking Goods</td>\n",
       "      <td>108.1570</td>\n",
       "      <td>OUT045</td>\n",
       "      <td>2002</td>\n",
       "      <td>Medium</td>\n",
       "      <td>Tier 2</td>\n",
       "      <td>Supermarket Type1</td>\n",
       "      <td>549.2850</td>\n",
       "    </tr>\n",
       "    <tr>\n",
       "      <th>8520</th>\n",
       "      <td>NCJ29</td>\n",
       "      <td>10.600</td>\n",
       "      <td>Low Fat</td>\n",
       "      <td>0.035186</td>\n",
       "      <td>Health and Hygiene</td>\n",
       "      <td>85.1224</td>\n",
       "      <td>OUT035</td>\n",
       "      <td>2004</td>\n",
       "      <td>Small</td>\n",
       "      <td>Tier 2</td>\n",
       "      <td>Supermarket Type1</td>\n",
       "      <td>1193.1136</td>\n",
       "    </tr>\n",
       "    <tr>\n",
       "      <th>8521</th>\n",
       "      <td>FDN46</td>\n",
       "      <td>7.210</td>\n",
       "      <td>Regular</td>\n",
       "      <td>0.145221</td>\n",
       "      <td>Snack Foods</td>\n",
       "      <td>103.1332</td>\n",
       "      <td>OUT018</td>\n",
       "      <td>2009</td>\n",
       "      <td>Medium</td>\n",
       "      <td>Tier 3</td>\n",
       "      <td>Supermarket Type2</td>\n",
       "      <td>1845.5976</td>\n",
       "    </tr>\n",
       "    <tr>\n",
       "      <th>8522</th>\n",
       "      <td>DRG01</td>\n",
       "      <td>14.800</td>\n",
       "      <td>Low Fat</td>\n",
       "      <td>0.044878</td>\n",
       "      <td>Soft Drinks</td>\n",
       "      <td>75.4670</td>\n",
       "      <td>OUT046</td>\n",
       "      <td>1997</td>\n",
       "      <td>Small</td>\n",
       "      <td>Tier 1</td>\n",
       "      <td>Supermarket Type1</td>\n",
       "      <td>765.6700</td>\n",
       "    </tr>\n",
       "  </tbody>\n",
       "</table>\n",
       "<p>8523 rows × 12 columns</p>\n",
       "</div>"
      ],
      "text/plain": [
       "     Item_Identifier  Item_Weight Item_Fat_Content  Item_Visibility  \\\n",
       "0              FDA15        9.300          Low Fat         0.016047   \n",
       "1              DRC01        5.920          Regular         0.019278   \n",
       "2              FDN15       17.500          Low Fat         0.016760   \n",
       "3              FDX07       19.200          Regular         0.000000   \n",
       "4              NCD19        8.930          Low Fat         0.000000   \n",
       "...              ...          ...              ...              ...   \n",
       "8518           FDF22        6.865          Low Fat         0.056783   \n",
       "8519           FDS36        8.380          Regular         0.046982   \n",
       "8520           NCJ29       10.600          Low Fat         0.035186   \n",
       "8521           FDN46        7.210          Regular         0.145221   \n",
       "8522           DRG01       14.800          Low Fat         0.044878   \n",
       "\n",
       "                  Item_Type  Item_MRP Outlet_Identifier  \\\n",
       "0                     Dairy  249.8092            OUT049   \n",
       "1               Soft Drinks   48.2692            OUT018   \n",
       "2                      Meat  141.6180            OUT049   \n",
       "3     Fruits and Vegetables  182.0950            OUT010   \n",
       "4                 Household   53.8614            OUT013   \n",
       "...                     ...       ...               ...   \n",
       "8518            Snack Foods  214.5218            OUT013   \n",
       "8519           Baking Goods  108.1570            OUT045   \n",
       "8520     Health and Hygiene   85.1224            OUT035   \n",
       "8521            Snack Foods  103.1332            OUT018   \n",
       "8522            Soft Drinks   75.4670            OUT046   \n",
       "\n",
       "      Outlet_Establishment_Year Outlet_Size Outlet_Location_Type  \\\n",
       "0                          1999      Medium               Tier 1   \n",
       "1                          2009      Medium               Tier 3   \n",
       "2                          1999      Medium               Tier 1   \n",
       "3                          1998      Medium               Tier 3   \n",
       "4                          1987        High               Tier 3   \n",
       "...                         ...         ...                  ...   \n",
       "8518                       1987        High               Tier 3   \n",
       "8519                       2002      Medium               Tier 2   \n",
       "8520                       2004       Small               Tier 2   \n",
       "8521                       2009      Medium               Tier 3   \n",
       "8522                       1997       Small               Tier 1   \n",
       "\n",
       "            Outlet_Type  Item_Outlet_Sales  \n",
       "0     Supermarket Type1          3735.1380  \n",
       "1     Supermarket Type2           443.4228  \n",
       "2     Supermarket Type1          2097.2700  \n",
       "3         Grocery Store           732.3800  \n",
       "4     Supermarket Type1           994.7052  \n",
       "...                 ...                ...  \n",
       "8518  Supermarket Type1          2778.3834  \n",
       "8519  Supermarket Type1           549.2850  \n",
       "8520  Supermarket Type1          1193.1136  \n",
       "8521  Supermarket Type2          1845.5976  \n",
       "8522  Supermarket Type1           765.6700  \n",
       "\n",
       "[8523 rows x 12 columns]"
      ]
     },
     "execution_count": 11,
     "metadata": {},
     "output_type": "execute_result"
    }
   ],
   "source": [
    "dataset.isnull().sum()\n",
    "dataset"
   ]
  },
  {
   "cell_type": "code",
   "execution_count": 12,
   "id": "09a418c6-5a60-4012-94a6-9ea148b4747d",
   "metadata": {},
   "outputs": [
    {
     "data": {
      "text/plain": [
       "1559"
      ]
     },
     "execution_count": 12,
     "metadata": {},
     "output_type": "execute_result"
    }
   ],
   "source": [
    "#How many unique products are there in the dataset?\n",
    "\n",
    "dataset['Item_Identifier'].nunique()\n",
    "\n",
    "## We have 1559 unique products"
   ]
  },
  {
   "cell_type": "code",
   "execution_count": 89,
   "id": "f742bc3f-44cb-4a10-8208-47328a699d58",
   "metadata": {},
   "outputs": [],
   "source": [
    "# What is the total sales revenue generated by the company?\n",
    "\n",
    "Compnay_revenue = round(dataset['Item_Outlet_Sales'].sum(),2)\n",
    "\n",
    "## Company generate the total revenue of 18591125.41"
   ]
  },
  {
   "cell_type": "code",
   "execution_count": 90,
   "id": "ca60ed19-400c-47b9-b411-3d062c7d537e",
   "metadata": {},
   "outputs": [
    {
     "data": {
      "text/plain": [
       "18591125.41"
      ]
     },
     "execution_count": 90,
     "metadata": {},
     "output_type": "execute_result"
    }
   ],
   "source": [
    "Compnay_revenue"
   ]
  },
  {
   "cell_type": "code",
   "execution_count": 14,
   "id": "a8563fad-8d0b-4889-9222-74d7f0995aba",
   "metadata": {},
   "outputs": [
    {
     "data": {
      "text/plain": [
       "140.99"
      ]
     },
     "execution_count": 14,
     "metadata": {},
     "output_type": "execute_result"
    }
   ],
   "source": [
    "## What is the average price of the products sold?\n",
    "\n",
    "round(dataset['Item_MRP'].mean(),2)\n",
    "\n",
    "# average price of the products sold is 140.99"
   ]
  },
  {
   "cell_type": "code",
   "execution_count": 15,
   "id": "807129f1-9c95-4b36-b517-f9e315f6284b",
   "metadata": {},
   "outputs": [],
   "source": [
    "#What is the most commonly sold product category?\n",
    "MostSold=dataset['Item_Type'].value_counts()\n",
    "\n",
    "# Fruits and Vegetables(qty=1232) is most commonly sold product category "
   ]
  },
  {
   "cell_type": "code",
   "execution_count": 16,
   "id": "d2122ae4-fa75-4552-a5fb-c329831a4bee",
   "metadata": {},
   "outputs": [
    {
     "data": {
      "text/plain": [
       "Item_Type\n",
       "Fruits and Vegetables    1232\n",
       "Snack Foods              1200\n",
       "Household                 910\n",
       "Frozen Foods              856\n",
       "Dairy                     682\n",
       "Canned                    649\n",
       "Baking Goods              648\n",
       "Health and Hygiene        520\n",
       "Soft Drinks               445\n",
       "Meat                      425\n",
       "Breads                    251\n",
       "Hard Drinks               214\n",
       "Others                    169\n",
       "Starchy Foods             148\n",
       "Breakfast                 110\n",
       "Seafood                    64\n",
       "Name: count, dtype: int64"
      ]
     },
     "execution_count": 16,
     "metadata": {},
     "output_type": "execute_result"
    }
   ],
   "source": [
    "MostSold"
   ]
  },
  {
   "cell_type": "code",
   "execution_count": 17,
   "id": "5e0801f6-fde6-4557-b87b-60df9ed4468b",
   "metadata": {},
   "outputs": [],
   "source": [
    "item_types = MostSold.index\n",
    "counts = MostSold.values"
   ]
  },
  {
   "cell_type": "code",
   "execution_count": 18,
   "id": "bf2ba6a5-cfbc-4e94-b1c3-f7d120f66f62",
   "metadata": {},
   "outputs": [
    {
     "data": {
      "text/plain": [
       "<BarContainer object of 16 artists>"
      ]
     },
     "execution_count": 18,
     "metadata": {},
     "output_type": "execute_result"
    },
    {
     "data": {
      "image/png": "[encoded data removed]",
      "text/plain": [
       "<Figure size 3000x800 with 1 Axes>"
      ]
     },
     "metadata": {},
     "output_type": "display_data"
    }
   ],
   "source": [
    "# Showong the performance of category by bar chart.\n",
    "\n",
    "plt.figure(figsize=(30, 8))\n",
    "plt.bar(item_types, counts)"
   ]
  },
  {
   "cell_type": "code",
   "execution_count": 28,
   "id": "ce244314-3c1c-4df3-8bb6-5176acc9385f",
   "metadata": {},
   "outputs": [],
   "source": [
    "#Which outlet type has the highest total sales revenue?\n",
    "\n",
    "Sale_OutletType = round(dataset.groupby('Outlet_Type').Item_Outlet_Sales.sum(),2)\n",
    "\n",
    "# Supermarket Type1(12917342.26) has the highest sale among outlet type."
   ]
  },
  {
   "cell_type": "code",
   "execution_count": 33,
   "id": "359165ab-4e09-4fe2-b752-57bb32388401",
   "metadata": {},
   "outputs": [
    {
     "data": {
      "text/plain": [
       "Outlet_Type\n",
       "Grocery Store          368034.27\n",
       "Supermarket Type1    12917342.26\n",
       "Supermarket Type2     1851822.83\n",
       "Supermarket Type3     3453926.05\n",
       "Name: Item_Outlet_Sales, dtype: float64"
      ]
     },
     "execution_count": 33,
     "metadata": {},
     "output_type": "execute_result"
    }
   ],
   "source": [
    "Sale_OutletType"
   ]
  },
  {
   "cell_type": "code",
   "execution_count": 31,
   "id": "932bea5f-d552-403e-bbfb-e8b3d11f591b",
   "metadata": {},
   "outputs": [],
   "source": [
    "outlet_item_types = Sale_OutletType.index\n",
    "outlet_counts = Sale_OutletType.values"
   ]
  },
  {
   "cell_type": "code",
   "execution_count": 32,
   "id": "0f0a0caf-ee46-4b23-b153-ed613c6e235e",
   "metadata": {},
   "outputs": [
    {
     "data": {
      "text/plain": [
       "<BarContainer object of 4 artists>"
      ]
     },
     "execution_count": 32,
     "metadata": {},
     "output_type": "execute_result"
    },
    {
     "data": {
      "image/png": "[encoded data removed]",
      "text/plain": [
       "<Figure size 640x480 with 1 Axes>"
      ]
     },
     "metadata": {},
     "output_type": "display_data"
    }
   ],
   "source": [
    "plt.barh(outlet_item_types,outlet_counts)"
   ]
  },
  {
   "cell_type": "code",
   "execution_count": 61,
   "id": "cf2930f1-603d-4164-b292-35ff863e2689",
   "metadata": {},
   "outputs": [
    {
     "data": {
      "text/plain": [
       "Item_Type\n",
       "Fruits and Vegetables    15.17\n",
       "Snack Foods              14.70\n",
       "Household                11.06\n",
       "Frozen Foods              9.82\n",
       "Dairy                     8.19\n",
       "Canned                    7.77\n",
       "Baking Goods              6.81\n",
       "Health and Hygiene        5.62\n",
       "Meat                      4.94\n",
       "Soft Drinks               4.80\n",
       "Breads                    2.98\n",
       "Hard Drinks               2.46\n",
       "Starchy Foods             1.89\n",
       "Others                    1.75\n",
       "Breakfast                 1.25\n",
       "Seafood                   0.80\n",
       "Name: Item_Outlet_Sales, dtype: float64"
      ]
     },
     "execution_count": 61,
     "metadata": {},
     "output_type": "execute_result"
    }
   ],
   "source": [
    "#Top 3 product category has the highest contribution in sale?\n",
    "\n",
    "round(round(dataset.groupby('Item_Type').Item_Outlet_Sales.sum())/ dataset['Item_Outlet_Sales'].sum()*100,2).sort_values(ascending =False)\n",
    "\n",
    "#Fruits and Vegetables(15.17%),Snack Foods (14.70), Health and Hygiene (11.06)"
   ]
  },
  {
   "cell_type": "code",
   "execution_count": 68,
   "id": "4b1e5010-4151-464f-9f15-cfcb338933b8",
   "metadata": {},
   "outputs": [
    {
     "data": {
      "text/plain": [
       "Outlet_Type\n",
       "Grocery Store         339.83\n",
       "Supermarket Type2    1995.50\n",
       "Supermarket Type1    2316.18\n",
       "Supermarket Type3    3694.04\n",
       "Name: Item_Outlet_Sales, dtype: float64"
      ]
     },
     "execution_count": 68,
     "metadata": {},
     "output_type": "execute_result"
    }
   ],
   "source": [
    "#What is the average sales revenue per outlet?\n",
    "\n",
    "round(dataset.groupby('Outlet_Type').Item_Outlet_Sales.mean(),2).sort_values()"
   ]
  },
  {
   "cell_type": "code",
   "execution_count": 72,
   "id": "51e1ccf7-9634-4703-be19-08097bfc0a3d",
   "metadata": {},
   "outputs": [],
   "source": [
    "#In which year was the highest total sales revenue generated?\n",
    "\n",
    "revenue_by_year= round(dataset.groupby('Outlet_Establishment_Year').Item_Outlet_Sales.sum(),2).sort_values(ascending= False)"
   ]
  },
  {
   "cell_type": "code",
   "execution_count": 73,
   "id": "1bd258e6-58f2-4f53-b6c7-d09815b7df46",
   "metadata": {},
   "outputs": [
    {
     "data": {
      "text/plain": [
       "Outlet_Establishment_Year\n",
       "1985    3633620.14\n",
       "2004    2268122.94\n",
       "1999    2183969.81\n",
       "2007    2167465.29\n",
       "1987    2142663.58\n",
       "1997    2118395.17\n",
       "2002    2036725.48\n",
       "2009    1851822.83\n",
       "1998     188340.17\n",
       "Name: Item_Outlet_Sales, dtype: float64"
      ]
     },
     "execution_count": 73,
     "metadata": {},
     "output_type": "execute_result"
    }
   ],
   "source": [
    "revenue_by_year"
   ]
  },
  {
   "cell_type": "code",
   "execution_count": 85,
   "id": "d2c40fda-d699-4bf2-9b13-b738d724371c",
   "metadata": {},
   "outputs": [
    {
     "data": {
      "text/plain": [
       "12.86"
      ]
     },
     "execution_count": 85,
     "metadata": {},
     "output_type": "execute_result"
    }
   ],
   "source": [
    "##What is the average weight of the products?\n",
    "\n",
    "round(dataset['Item_Weight'].mean(),2)\n",
    "\n",
    "# Avg Weight is 12.86"
   ]
  },
  {
   "cell_type": "code",
   "execution_count": 87,
   "id": "59255bdb-3514-46f3-93fa-f4f7602851c9",
   "metadata": {},
   "outputs": [
    {
     "data": {
      "text/plain": [
       "Outlet_Type\n",
       "Grocery Store        140.29\n",
       "Supermarket Type1    141.21\n",
       "Supermarket Type2    141.68\n",
       "Supermarket Type3    139.80\n",
       "Name: Item_MRP, dtype: float64"
      ]
     },
     "execution_count": 87,
     "metadata": {},
     "output_type": "execute_result"
    }
   ],
   "source": [
    "#What is the average price of the products in each outlet type?\n",
    "round(dataset.groupby('Outlet_Type').Item_MRP.mean(),2)"
   ]
  },
  {
   "cell_type": "code",
   "execution_count": 88,
   "id": "4556ba93-fe46-4d1d-8824-1597b668da8a",
   "metadata": {},
   "outputs": [
    {
     "data": {
      "text/plain": [
       "Outlet_Size\n",
       "High      0.06\n",
       "Medium    0.06\n",
       "Small     0.07\n",
       "Name: Item_Visibility, dtype: float64"
      ]
     },
     "execution_count": 88,
     "metadata": {},
     "output_type": "execute_result"
    }
   ],
   "source": [
    "#What is the average visibility of products in each outlet size category?\n",
    "\n",
    "round(dataset.groupby('Outlet_Size').Item_Visibility.mean(),2)"
   ]
  },
  {
   "cell_type": "code",
   "execution_count": 93,
   "id": "ca6ae20f-9871-46ed-9ef0-8c2541e5af42",
   "metadata": {},
   "outputs": [
    {
     "data": {
      "text/plain": [
       "Outlet_Establishment_Year  Outlet_Type      \n",
       "1985                       Grocery Store         340.329723\n",
       "                           Supermarket Type3    3694.038558\n",
       "1987                       Supermarket Type1    2298.995256\n",
       "1997                       Supermarket Type1    2277.844267\n",
       "1998                       Grocery Store         339.351662\n",
       "1999                       Supermarket Type1    2348.354635\n",
       "2002                       Supermarket Type1    2192.384798\n",
       "2004                       Supermarket Type1    2438.841866\n",
       "2007                       Supermarket Type1    2340.675263\n",
       "2009                       Supermarket Type2    1995.498739\n",
       "Name: Item_Outlet_Sales, dtype: float64"
      ]
     },
     "execution_count": 93,
     "metadata": {},
     "output_type": "execute_result"
    }
   ],
   "source": [
    "#What is the average sales revenue per year for each outlet type?\n",
    "\n",
    "AvgSales_Year_Outlet= dataset.groupby(['Outlet_Establishment_Year','Outlet_Type']).Item_Outlet_Sales.mean()\n",
    "AvgSales_Year_Outlet"
   ]
  }
 ],
 "metadata": {
  "kernelspec": {
   "display_name": "Python 3 (ipykernel)",
   "language": "python",
   "name": "python3"
  },
  "language_info": {
   "codemirror_mode": {
    "name": "ipython",
    "version": 3
   },
   "file_extension": ".py",
   "mimetype": "text/x-python",
   "name": "python",
   "nbconvert_exporter": "python",
   "pygments_lexer": "ipython3",
   "version": "3.11.7"
  }
 },
 "nbformat": 4,
 "nbformat_minor": 5
}
